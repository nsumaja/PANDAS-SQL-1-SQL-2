{
 "cells": [
  {
   "cell_type": "code",
   "execution_count": 1,
   "metadata": {},
   "outputs": [
    {
     "name": "stdout",
     "output_type": "stream",
     "text": [
      "1.2.11\n",
      "Following are the records from the adult table in memory retrieved and printed :\n",
      " --------------------------------------------------------------------------------\n",
      "<Adult(age='50', workclass=' Self-emp-not-inc', fnlwgt='83311',education=' Bachelors', educationNum='13',maritalStatus =' Married-civ-spouse',occupation =' Exec-managerial',relationship =' Husband',race =' White',sex =' Male',capitalGain ='0',capitalLoss ='0',hoursperweek ='13',nativeCountry =' United-States',salperyear =' <=50K')>\n",
      "--------------------------------------------------------------------------------\n",
      "<Adult(age='38', workclass=' Private', fnlwgt='215646',education=' HS-grad', educationNum='9',maritalStatus =' Divorced',occupation =' Handlers-cleaners',relationship =' Not-in-family',race =' White',sex =' Male',capitalGain ='0',capitalLoss ='0',hoursperweek ='40',nativeCountry =' United-States',salperyear =' <=50K')>\n",
      "--------------------------------------------------------------------------------\n",
      "<Adult(age='53', workclass=' Private', fnlwgt='234721',education=' 11th', educationNum='7',maritalStatus =' Married-civ-spouse',occupation =' Handlers-cleaners',relationship =' Husband',race =' Black',sex =' Male',capitalGain ='0',capitalLoss ='0',hoursperweek ='40',nativeCountry =' United-States',salperyear =' <=50K')>\n",
      "--------------------------------------------------------------------------------\n",
      "<Adult(age='28', workclass=' Private', fnlwgt='338409',education=' Bachelors', educationNum='13',maritalStatus =' Married-civ-spouse',occupation =' Prof-specialty',relationship =' Wife',race =' Black',sex =' Female',capitalGain ='0',capitalLoss ='0',hoursperweek ='40',nativeCountry =' Cuba',salperyear =' <=50K')>\n",
      "--------------------------------------------------------------------------------\n",
      "<Adult(age='37', workclass=' Private', fnlwgt='284582',education=' Masters', educationNum='14',maritalStatus =' Married-civ-spouse',occupation =' Exec-managerial',relationship =' Wife',race =' White',sex =' Female',capitalGain ='0',capitalLoss ='0',hoursperweek ='40',nativeCountry =' United-States',salperyear =' <=50K')>\n",
      "--------------------------------------------------------------------------------\n"
     ]
    }
   ],
   "source": [
    "import pandas as pd\n",
    "import sqlalchemy as sqy\n",
    "from sqlalchemy import  create_engine,Column,Integer,String,Float\n",
    "from sqlalchemy.ext.declarative import declarative_base\n",
    "from sqlalchemy.orm import sessionmaker\n",
    "\n",
    "#reading the dataSet \n",
    "df = pd.read_csv('https://archive.ics.uci.edu/ml/machine-learning-databases/adult/adult.data')\n",
    "\n",
    "# List of Column Names from the Adultnames file\n",
    "ColumnNames= ['age','workclass','fnlwgt','education','educationNum','maritalStatus','occupation','relationship','race','sex','capitalGain','capitalLoss','hoursperweek','nativeCountry','salperyear']\n",
    "df.columns = ColumnNames\n",
    "\n",
    "# Creating a sqlalchemy engine\n",
    "engine = create_engine('sqlite:///:memory:', echo=False)\n",
    "print(sqy.__version__)\n",
    "\n",
    "# Constructing the Base Class from declarative to create table from it \n",
    "Base = declarative_base() \n",
    "\n",
    "class Adult(Base):\n",
    "    __tablename__ = 'adult'\n",
    "\n",
    "    id = Column(Integer, primary_key=True)\n",
    "    age = Column(Integer)\n",
    "    workclass = Column(String)\n",
    "    fnlwgt = Column(Integer)\n",
    "    education = Column(String)\n",
    "    educationNum = Column(Integer)\n",
    "    maritalStatus = Column(String)\n",
    "    occupation = Column(String)\n",
    "    relationship = Column(String)\n",
    "    race = Column(String)\n",
    "    sex = Column(String)\n",
    "    capitalGain = Column(Integer)\n",
    "    capitalLoss = Column(Integer)\n",
    "    hoursperweek = Column(Integer)\n",
    "    nativeCountry = Column(String)\n",
    "    salperyear = Column(String)\n",
    "   \n",
    "    def __repr__(self):\n",
    "        return \"<Adult(age='%d', workclass='%s', fnlwgt='%d',education='%s', educationNum='%d',maritalStatus ='%s',occupation ='%s',relationship ='%s',race ='%s',sex ='%s',capitalGain ='%d',capitalLoss ='%d',hoursperweek ='%d',nativeCountry ='%s',salperyear ='%s')>\" %(\n",
    "    self.age, self.workclass,self.fnlwgt,self.education,self.educationNum,self.maritalStatus,self.occupation,self.relationship,self.race,self.sex,self.capitalGain,self.capitalLoss,self.hoursperweek,self.nativeCountry,self.salperyear)\n",
    "\n",
    "# creating the Table in the Engine, i.e memory\n",
    "Base.metadata.create_all(engine)\n",
    "\n",
    "#binding the engine to the session \n",
    "SessionMaker = sessionmaker(bind=engine)\n",
    "\n",
    "session = SessionMaker()\n",
    "\n",
    "# adding the data in the session , by first converting first 5 records to dictionary and then accessing individiuallyusing addall to add multiple rows \n",
    "\n",
    "dict1 = (df.head().to_dict('index'))\n",
    "for x in dict1.values():\n",
    "    temp = Adult(**x)\n",
    "    session.add(temp)\n",
    "    \n",
    "# Commit flushes all the new data in session to the Database in memmory \n",
    "session.commit()\n",
    "    \n",
    "print(\"Following are the records from the adult table in memory retrieved and printed :\\n\",'-'*80)    \n",
    "# now retrieving the records from the session through query and printing \n",
    "for row in session.query(Adult).all():\n",
    "    print(row)\n",
    "    print('-'*80)"
   ]
  },
  {
   "cell_type": "code",
   "execution_count": 2,
   "metadata": {},
   "outputs": [
    {
     "name": "stdout",
     "output_type": "stream",
     "text": [
      "Records having  50 years aged  \n",
      " --------------------------------------------------------------------------------\n",
      "<Adult(age='50', workclass=' Self-emp-not-inc', fnlwgt='83311',education=' Bachelors', educationNum='13',maritalStatus =' Married-civ-spouse',occupation =' Exec-managerial',relationship =' Husband',race =' White',sex =' Male',capitalGain ='0',capitalLoss ='0',hoursperweek ='13',nativeCountry =' United-States',salperyear =' <=50K')>\n",
      "--------------------------------------------------------------------------------\n",
      "After Updating hoursperweek to 20 and fetching records from DB \n",
      " --------------------------------------------------------------------------------\n",
      "<Adult(age='50', workclass=' Self-emp-not-inc', fnlwgt='83311',education=' Bachelors', educationNum='13',maritalStatus =' Married-civ-spouse',occupation =' Exec-managerial',relationship =' Husband',race =' White',sex =' Male',capitalGain ='0',capitalLoss ='0',hoursperweek ='20',nativeCountry =' United-States',salperyear =' <=50K')>\n",
      "--------------------------------------------------------------------------------\n"
     ]
    }
   ],
   "source": [
    "print(\"Records having  50 years aged  \\n\",'-'*80)\n",
    "for adt in session.query(Adult).filter(Adult.age == 50):\n",
    "    print(adt)\n",
    "    print('-'*80)\n",
    "   \n",
    "# Updating The Hoursperweek for 50 years old\n",
    "session.query(Adult).filter(Adult.age == 50).update({'hoursperweek' : 20})\n",
    "session.commit()\n",
    "\n",
    "print(\"After Updating hoursperweek to 20 and fetching records from DB \\n\",'-'*80)\n",
    "for adt in session.query(Adult).filter(Adult.age == 50):\n",
    "    print(adt)\n",
    "    print('-'*80)"
   ]
  },
  {
   "cell_type": "code",
   "execution_count": 3,
   "metadata": {},
   "outputs": [
    {
     "name": "stdout",
     "output_type": "stream",
     "text": [
      "Checking if record exists where workclass is not Private \n",
      " --------------------------------------------------------------------------------\n",
      "<Adult(age='50', workclass=' Self-emp-not-inc', fnlwgt='83311',education=' Bachelors', educationNum='13',maritalStatus =' Married-civ-spouse',occupation =' Exec-managerial',relationship =' Husband',race =' White',sex =' Male',capitalGain ='0',capitalLoss ='0',hoursperweek ='20',nativeCountry =' United-States',salperyear =' <=50K')>\n",
      "--------------------------------------------------------------------------------\n",
      "After Updating Workclass to Private and fetching from DB \n",
      " --------------------------------------------------------------------------------\n",
      "<Adult(age='50', workclass=' Private', fnlwgt='83311',education=' Bachelors', educationNum='13',maritalStatus =' Married-civ-spouse',occupation =' Exec-managerial',relationship =' Husband',race =' White',sex =' Male',capitalGain ='0',capitalLoss ='0',hoursperweek ='20',nativeCountry =' United-States',salperyear =' <=50K')>\n",
      "--------------------------------------------------------------------------------\n",
      "<Adult(age='38', workclass=' Private', fnlwgt='215646',education=' HS-grad', educationNum='9',maritalStatus =' Divorced',occupation =' Handlers-cleaners',relationship =' Not-in-family',race =' White',sex =' Male',capitalGain ='0',capitalLoss ='0',hoursperweek ='40',nativeCountry =' United-States',salperyear =' <=50K')>\n",
      "--------------------------------------------------------------------------------\n",
      "<Adult(age='53', workclass=' Private', fnlwgt='234721',education=' 11th', educationNum='7',maritalStatus =' Married-civ-spouse',occupation =' Handlers-cleaners',relationship =' Husband',race =' Black',sex =' Male',capitalGain ='0',capitalLoss ='0',hoursperweek ='40',nativeCountry =' United-States',salperyear =' <=50K')>\n",
      "--------------------------------------------------------------------------------\n",
      "<Adult(age='28', workclass=' Private', fnlwgt='338409',education=' Bachelors', educationNum='13',maritalStatus =' Married-civ-spouse',occupation =' Prof-specialty',relationship =' Wife',race =' Black',sex =' Female',capitalGain ='0',capitalLoss ='0',hoursperweek ='40',nativeCountry =' Cuba',salperyear =' <=50K')>\n",
      "--------------------------------------------------------------------------------\n",
      "<Adult(age='37', workclass=' Private', fnlwgt='284582',education=' Masters', educationNum='14',maritalStatus =' Married-civ-spouse',occupation =' Exec-managerial',relationship =' Wife',race =' White',sex =' Female',capitalGain ='0',capitalLoss ='0',hoursperweek ='40',nativeCountry =' United-States',salperyear =' <=50K')>\n",
      "--------------------------------------------------------------------------------\n"
     ]
    }
   ],
   "source": [
    "print(\"Checking if record exists where workclass is not Private \\n\",'-'*80)\n",
    "for adt in session.query(Adult).filter(Adult.workclass != ' Private'):\n",
    "    print(adt)\n",
    "    print('-'*80)\n",
    "    \n",
    "session.query(Adult).filter(Adult.workclass != ' Private').update({'workclass' : ' Private'})\n",
    "session.commit()\n",
    "\n",
    "print(\"After Updating Workclass to Private and fetching from DB \\n\",'-'*80)\n",
    "for adt in session.query(Adult).all():\n",
    "    print(adt)\n",
    "    print('-'*80)"
   ]
  },
  {
   "cell_type": "code",
   "execution_count": 4,
   "metadata": {},
   "outputs": [
    {
     "name": "stdout",
     "output_type": "stream",
     "text": [
      "Checking if record exists where workclass is not Private \n",
      " --------------------------------------------------------------------------------\n",
      "After Deleting and fetching from DB , check if  record now exists \n",
      " --------------------------------------------------------------------------------\n",
      "<Adult(age='50', workclass=' Private', fnlwgt='83311',education=' Bachelors', educationNum='13',maritalStatus =' Married-civ-spouse',occupation =' Exec-managerial',relationship =' Husband',race =' White',sex =' Male',capitalGain ='0',capitalLoss ='0',hoursperweek ='20',nativeCountry =' United-States',salperyear =' <=50K')>\n",
      "--------------------------------------------------------------------------------\n",
      "<Adult(age='38', workclass=' Private', fnlwgt='215646',education=' HS-grad', educationNum='9',maritalStatus =' Divorced',occupation =' Handlers-cleaners',relationship =' Not-in-family',race =' White',sex =' Male',capitalGain ='0',capitalLoss ='0',hoursperweek ='40',nativeCountry =' United-States',salperyear =' <=50K')>\n",
      "--------------------------------------------------------------------------------\n",
      "<Adult(age='53', workclass=' Private', fnlwgt='234721',education=' 11th', educationNum='7',maritalStatus =' Married-civ-spouse',occupation =' Handlers-cleaners',relationship =' Husband',race =' Black',sex =' Male',capitalGain ='0',capitalLoss ='0',hoursperweek ='40',nativeCountry =' United-States',salperyear =' <=50K')>\n",
      "--------------------------------------------------------------------------------\n",
      "<Adult(age='28', workclass=' Private', fnlwgt='338409',education=' Bachelors', educationNum='13',maritalStatus =' Married-civ-spouse',occupation =' Prof-specialty',relationship =' Wife',race =' Black',sex =' Female',capitalGain ='0',capitalLoss ='0',hoursperweek ='40',nativeCountry =' Cuba',salperyear =' <=50K')>\n",
      "--------------------------------------------------------------------------------\n",
      "<Adult(age='37', workclass=' Private', fnlwgt='284582',education=' Masters', educationNum='14',maritalStatus =' Married-civ-spouse',occupation =' Exec-managerial',relationship =' Wife',race =' White',sex =' Female',capitalGain ='0',capitalLoss ='0',hoursperweek ='40',nativeCountry =' United-States',salperyear =' <=50K')>\n",
      "--------------------------------------------------------------------------------\n"
     ]
    }
   ],
   "source": [
    "print(\"Checking if record exists where workclass is not Private \\n\",'-'*80)\n",
    "for adt in session.query(Adult).filter(Adult.workclass != ' Private'):\n",
    "    print(adt)\n",
    "    print('-'*80)\n",
    "    \n",
    "session.query(Adult).filter(Adult.workclass != ' Private').delete()\n",
    "session.commit()\n",
    "\n",
    "print(\"After Deleting and fetching from DB , check if  record now exists \\n\",'-'*80)\n",
    "for adt in session.query(Adult).all():\n",
    "    print(adt)\n",
    "    print('-'*80)"
   ]
  },
  {
   "cell_type": "code",
   "execution_count": 5,
   "metadata": {},
   "outputs": [
    {
     "name": "stdout",
     "output_type": "stream",
     "text": [
      "Checking if record exists where education Number is other than 13 \n",
      " --------------------------------------------------------------------------------\n",
      "<Adult(age='50', workclass=' Private', fnlwgt='83311',education=' Bachelors', educationNum='13',maritalStatus =' Married-civ-spouse',occupation =' Exec-managerial',relationship =' Husband',race =' White',sex =' Male',capitalGain ='0',capitalLoss ='0',hoursperweek ='20',nativeCountry =' United-States',salperyear =' <=50K')>\n",
      "--------------------------------------------------------------------------------\n",
      "<Adult(age='28', workclass=' Private', fnlwgt='338409',education=' Bachelors', educationNum='13',maritalStatus =' Married-civ-spouse',occupation =' Prof-specialty',relationship =' Wife',race =' Black',sex =' Female',capitalGain ='0',capitalLoss ='0',hoursperweek ='40',nativeCountry =' Cuba',salperyear =' <=50K')>\n",
      "--------------------------------------------------------------------------------\n",
      "After Deleting the record , fetching from DB , if filtered record exists \n",
      " --------------------------------------------------------------------------------\n",
      "<Adult(age='38', workclass=' Private', fnlwgt='215646',education=' HS-grad', educationNum='9',maritalStatus =' Divorced',occupation =' Handlers-cleaners',relationship =' Not-in-family',race =' White',sex =' Male',capitalGain ='0',capitalLoss ='0',hoursperweek ='40',nativeCountry =' United-States',salperyear =' <=50K')>\n",
      "--------------------------------------------------------------------------------\n",
      "<Adult(age='53', workclass=' Private', fnlwgt='234721',education=' 11th', educationNum='7',maritalStatus =' Married-civ-spouse',occupation =' Handlers-cleaners',relationship =' Husband',race =' Black',sex =' Male',capitalGain ='0',capitalLoss ='0',hoursperweek ='40',nativeCountry =' United-States',salperyear =' <=50K')>\n",
      "--------------------------------------------------------------------------------\n",
      "<Adult(age='37', workclass=' Private', fnlwgt='284582',education=' Masters', educationNum='14',maritalStatus =' Married-civ-spouse',occupation =' Exec-managerial',relationship =' Wife',race =' White',sex =' Female',capitalGain ='0',capitalLoss ='0',hoursperweek ='40',nativeCountry =' United-States',salperyear =' <=50K')>\n",
      "--------------------------------------------------------------------------------\n"
     ]
    }
   ],
   "source": [
    "print(\"Checking if record exists where education Number is other than 13 \\n\",'-'*80)\n",
    "for adt in session.query(Adult).filter(Adult.educationNum == 13).all():\n",
    "    print(adt)\n",
    "    print('-'*80)\n",
    "    \n",
    "session.query(Adult).filter(Adult.educationNum == 13).delete()\n",
    "session.commit()\n",
    "\n",
    "print(\"After Deleting the record , fetching from DB , if filtered record exists \\n\",'-'*80)\n",
    "for adt in session.query(Adult).all():\n",
    "    print(adt)\n",
    "    print('-'*80)"
   ]
  },
  {
   "cell_type": "code",
   "execution_count": 6,
   "metadata": {},
   "outputs": [
    {
     "name": "stdout",
     "output_type": "stream",
     "text": [
      "To See those who have studied till masters  \n",
      " --------------------------------------------------------------------------------\n",
      "<Adult(age='37', workclass=' Private', fnlwgt='284582',education=' Masters', educationNum='14',maritalStatus =' Married-civ-spouse',occupation =' Exec-managerial',relationship =' Wife',race =' White',sex =' Female',capitalGain ='0',capitalLoss ='0',hoursperweek ='40',nativeCountry =' United-States',salperyear =' <=50K')>\n",
      "--------------------------------------------------------------------------------\n"
     ]
    }
   ],
   "source": [
    "print(\"To See those who have studied till masters  \\n\",'-'*80)\n",
    "for adt in session.query(Adult).filter(Adult.education.like('%Masters%')):\n",
    "    print(adt)\n",
    "    print('-'*80)"
   ]
  },
  {
   "cell_type": "code",
   "execution_count": 7,
   "metadata": {},
   "outputs": [
    {
     "name": "stdout",
     "output_type": "stream",
     "text": [
      "To See how many people have studied masters \n",
      " --------------------------------------------------------------------------------\n",
      "1\n",
      "--------------------------------------------------------------------------------\n"
     ]
    }
   ],
   "source": [
    "print(\"To See how many people have studied masters \\n\",'-'*80)\n",
    "#print(session.query(Adult).filter(Adult.nativeCountry.like('%United-States%')).group_by(Adult.sex).count(Adult.sex))\n",
    "print(session.query(Adult).filter(Adult.education.like('%Masters%')).count())\n",
    "print('-'*80)"
   ]
  },
  {
   "cell_type": "code",
   "execution_count": 8,
   "metadata": {},
   "outputs": [
    {
     "name": "stdout",
     "output_type": "stream",
     "text": [
      "To show the gender distribution for country  \n",
      " --------------------------------------------------------------------------------\n",
      "[(' United-States', ' Female', 1), (' United-States', ' Male', 2)]\n",
      "--------------------------------------------------------------------------------\n"
     ]
    }
   ],
   "source": [
    "from sqlalchemy import func\n",
    "print(\"To show the gender distribution for country  \\n\",'-'*80)\n",
    "print(session.query(Adult.nativeCountry,Adult.sex,func.count('*')).group_by(Adult.nativeCountry,Adult.sex).all())\n",
    "print('-'*80)"
   ]
  },
  {
   "cell_type": "code",
   "execution_count": 9,
   "metadata": {},
   "outputs": [
    {
     "name": "stdout",
     "output_type": "stream",
     "text": [
      "To See how many people are married \n",
      " --------------------------------------------------------------------------------\n",
      "[(' Divorced', 1), (' Married-civ-spouse', 2)]\n",
      "--------------------------------------------------------------------------------\n"
     ]
    }
   ],
   "source": [
    "print(\"To See how many people are married \\n\",'-'*80)\n",
    "print(session.query(Adult.maritalStatus,func.count('*')).group_by(Adult.maritalStatus).all())\n",
    "print('-'*80)"
   ]
  },
  {
   "cell_type": "code",
   "execution_count": null,
   "metadata": {},
   "outputs": [],
   "source": []
  }
 ],
 "metadata": {
  "kernelspec": {
   "display_name": "Python 3",
   "language": "python",
   "name": "python3"
  },
  "language_info": {
   "codemirror_mode": {
    "name": "ipython",
    "version": 3
   },
   "file_extension": ".py",
   "mimetype": "text/x-python",
   "name": "python",
   "nbconvert_exporter": "python",
   "pygments_lexer": "ipython3",
   "version": "3.7.0"
  }
 },
 "nbformat": 4,
 "nbformat_minor": 2
}
